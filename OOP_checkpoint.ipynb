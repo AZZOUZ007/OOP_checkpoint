{
 "cells": [
  {
   "cell_type": "code",
   "execution_count": 21,
   "id": "c634e567",
   "metadata": {},
   "outputs": [
    {
     "name": "stdout",
     "output_type": "stream",
     "text": [
      "(1, 2, 3)\n"
     ]
    }
   ],
   "source": [
    "class point_3D:\n",
    "    def __init__(self,x,y,z):\n",
    "        self.x = x\n",
    "        self.y = y\n",
    "        self.z = z\n",
    "    \n",
    "    def formated(self):\n",
    "        return(self.x,self.y, self.z)\n",
    "        \n",
    "my_point = point_3D(1,2,3)\n",
    "print(my_point.formated())\n"
   ]
  },
  {
   "cell_type": "code",
   "execution_count": 26,
   "id": "40fc8ead",
   "metadata": {},
   "outputs": [
    {
     "name": "stdout",
     "output_type": "stream",
     "text": [
      "12\n",
      "14\n"
     ]
    }
   ],
   "source": [
    "class Rectangle:\n",
    "    \n",
    "    def __init__(self, length, width):\n",
    "        self.length = length\n",
    "        self.width = width\n",
    "        \n",
    "    def area(self):\n",
    "        return self.width * self.length\n",
    "    \n",
    "    def perimeter(self):\n",
    "        return 2*(self.width + self.length)\n",
    "\n",
    "my_rectangle = Rectangle(3,4)\n",
    "print(my_rectangle.area())\n",
    "print(my_rectangle.perimeter())"
   ]
  },
  {
   "cell_type": "code",
   "execution_count": 8,
   "id": "5d80121b",
   "metadata": {},
   "outputs": [
    {
     "name": "stdout",
     "output_type": "stream",
     "text": [
      "18.850\n",
      "25.133\n"
     ]
    }
   ],
   "source": [
    "pi = 3.141592653589793\n",
    "\n",
    "class circle:\n",
    "    \n",
    "    def __init__(self, o, r):\n",
    "        self.r = r\n",
    "        self.o = o\n",
    "        \n",
    "    def c_area(self):\n",
    "        return (self.r^2) * pi\n",
    "    \n",
    "    def c_perimeter(self):\n",
    "        return 2 * self.r * pi\n",
    "\n",
    "my_circle = circle(2,4)\n",
    "print(format(my_circle.c_area(),'.3f'))\n",
    "print(format(my_circle.c_perimeter(), '.3f'))\n"
   ]
  },
  {
   "cell_type": "code",
   "execution_count": 2,
   "id": "71bf9a29",
   "metadata": {},
   "outputs": [
    {
     "name": "stdout",
     "output_type": "stream",
     "text": [
      "Your deposit is successful, your new balance is 1500\n",
      "Your withdrawal is successful, your new balance is 1300\n"
     ]
    }
   ],
   "source": [
    "class Bank:\n",
    "    \n",
    "    def __init__(self, initial_balance=0):\n",
    "        self.balance = initial_balance\n",
    "    \n",
    "    def deposit(self, amount):\n",
    "        if amount > 0:\n",
    "            self.balance += amount\n",
    "            return f\"Your deposit is successful, your new balance is {self.balance}\"\n",
    "        \n",
    "        else:\n",
    "            print(\"Deposit amount should be greater than zero.\")\n",
    "            \n",
    "    \n",
    "    def withdraw(self, amount):\n",
    "        if 0 < amount <= self.balance:\n",
    "            self.balance -= amount\n",
    "            return f\"Your withdrawal is successful, your new balance is {self.balance}\"\n",
    "            \n",
    "        else:\n",
    "            print(\"Withdrawal amount exceeds the balance.\")\n",
    "            \n",
    "\n",
    "my_bank = Bank(1000)\n",
    "\n",
    "print(my_bank.deposit(500))\n",
    "\n",
    "print(my_bank.withdraw(200))"
   ]
  },
  {
   "cell_type": "code",
   "execution_count": null,
   "id": "e57147c0",
   "metadata": {},
   "outputs": [],
   "source": []
  }
 ],
 "metadata": {
  "kernelspec": {
   "display_name": "Python 3 (ipykernel)",
   "language": "python",
   "name": "python3"
  },
  "language_info": {
   "codemirror_mode": {
    "name": "ipython",
    "version": 3
   },
   "file_extension": ".py",
   "mimetype": "text/x-python",
   "name": "python",
   "nbconvert_exporter": "python",
   "pygments_lexer": "ipython3",
   "version": "3.10.9"
  }
 },
 "nbformat": 4,
 "nbformat_minor": 5
}
